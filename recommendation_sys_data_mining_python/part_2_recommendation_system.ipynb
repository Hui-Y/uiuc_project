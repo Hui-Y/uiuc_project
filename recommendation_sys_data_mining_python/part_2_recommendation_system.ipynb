{
 "cells": [
  {
   "cell_type": "markdown",
   "metadata": {
    "id": "u6iuONN8iorv"
   },
   "source": [
    "## Recommendation system"
   ]
  },
  {
   "cell_type": "code",
   "execution_count": 67,
   "metadata": {
    "id": "GONJyXhjjDJa"
   },
   "outputs": [],
   "source": [
    "import pandas as pd \n",
    "import numpy as np\n",
    "import sklearn\n",
    "import matplotlib.pyplot as plt"
   ]
  },
  {
   "cell_type": "code",
   "execution_count": 68,
   "metadata": {},
   "outputs": [],
   "source": [
    "credits = pd.read_csv('credits.csv')\n",
    "movies = pd.read_csv('movies_metadata.csv')\n",
    "keywords = pd.read_csv('keywords.csv')\n",
    "links = pd.read_csv('links.csv')\n",
    "links_small = pd.read_csv('links_small.csv')\n",
    "ratings_small = pd.read_csv('ratings_small.csv')\n",
    "ratings = pd.read_csv('ratings.csv')"
   ]
  },
  {
   "cell_type": "markdown",
   "metadata": {
    "id": "orY4xSfSnT7d"
   },
   "source": [
    "### Simple recommendation system"
   ]
  },
  {
   "cell_type": "markdown",
   "metadata": {},
   "source": [
    "The imple recommendation engine for new user recommends the movies that have the highest average rating scores and regardless of users’ preferences. Actually, some weighted scores are more popular, including IMDb formula, but the main idea and the results are quite similar."
   ]
  },
  {
   "cell_type": "code",
   "execution_count": 69,
   "metadata": {},
   "outputs": [],
   "source": [
    "allmov = pd.merge(movies, credits, left_index = True, right_index = True)\n",
    "allmov = pd.merge(allmov, keywords, left_index = True, right_index = True)\n",
    "allmov.dropna(subset = [\"release_date\"], inplace = True)\n",
    "allmov.replace(0, np.nan, inplace = True)\n",
    "allmov.replace(0, np.nan, inplace = True)"
   ]
  },
  {
   "cell_type": "code",
   "execution_count": 70,
   "metadata": {},
   "outputs": [
    {
     "data": {
      "text/html": [
       "<div>\n",
       "<style scoped>\n",
       "    .dataframe tbody tr th:only-of-type {\n",
       "        vertical-align: middle;\n",
       "    }\n",
       "\n",
       "    .dataframe tbody tr th {\n",
       "        vertical-align: top;\n",
       "    }\n",
       "\n",
       "    .dataframe thead th {\n",
       "        text-align: right;\n",
       "    }\n",
       "</style>\n",
       "<table border=\"1\" class=\"dataframe\">\n",
       "  <thead>\n",
       "    <tr style=\"text-align: right;\">\n",
       "      <th></th>\n",
       "      <th>title</th>\n",
       "      <th>vote_average</th>\n",
       "      <th>vote_count</th>\n",
       "    </tr>\n",
       "  </thead>\n",
       "  <tbody>\n",
       "    <tr>\n",
       "      <th>314</th>\n",
       "      <td>The Shawshank Redemption</td>\n",
       "      <td>8.5</td>\n",
       "      <td>8358.0</td>\n",
       "    </tr>\n",
       "    <tr>\n",
       "      <th>834</th>\n",
       "      <td>The Godfather</td>\n",
       "      <td>8.5</td>\n",
       "      <td>6024.0</td>\n",
       "    </tr>\n",
       "    <tr>\n",
       "      <th>12481</th>\n",
       "      <td>The Dark Knight</td>\n",
       "      <td>8.3</td>\n",
       "      <td>12269.0</td>\n",
       "    </tr>\n",
       "    <tr>\n",
       "      <th>2843</th>\n",
       "      <td>Fight Club</td>\n",
       "      <td>8.3</td>\n",
       "      <td>9678.0</td>\n",
       "    </tr>\n",
       "    <tr>\n",
       "      <th>292</th>\n",
       "      <td>Pulp Fiction</td>\n",
       "      <td>8.3</td>\n",
       "      <td>8670.0</td>\n",
       "    </tr>\n",
       "  </tbody>\n",
       "</table>\n",
       "</div>"
      ],
      "text/plain": [
       "                          title  vote_average  vote_count\n",
       "314    The Shawshank Redemption           8.5      8358.0\n",
       "834               The Godfather           8.5      6024.0\n",
       "12481           The Dark Knight           8.3     12269.0\n",
       "2843                 Fight Club           8.3      9678.0\n",
       "292                Pulp Fiction           8.3      8670.0"
      ]
     },
     "execution_count": 70,
     "metadata": {},
     "output_type": "execute_result"
    }
   ],
   "source": [
    "def best_mov(df, cols = ['vote_average','vote_count'], conds = [8.0, 2000.0], n = 5):\n",
    "    # cols - a list of columns' name for the selection\n",
    "    # conds - a list of selection conditions for the corresponding columns\n",
    "    colunms = ['title'] + cols\n",
    "    target = df[colunms]\n",
    "    selected1 = target[np.logical_and(target[cols[0]] > conds[0], target[cols[1]] > conds[1])]\n",
    "    bestm = selected1.sort_values(ascending = False, by = cols).head(n)\n",
    "    return bestm\n",
    "\n",
    "best_mov(allmov) "
   ]
  },
  {
   "cell_type": "markdown",
   "metadata": {
    "id": "rH0D-F6tn19t"
   },
   "source": [
    "### Content Based Recommender"
   ]
  },
  {
   "cell_type": "markdown",
   "metadata": {
    "id": "0Fj6T9NQYolI"
   },
   "source": [
    "Recommend movies based on the movie title, the director, the main actors, the genre and the keywords. For this parts, the main idea is from this notebook https://www.kaggle.com/rounakbanik/movie-recommender-systems. In the notebook, the author applied the methods on the small dataset and get a great results. However, since the whole data set contain much more noise, it is difficult to get the same performance. Increasing or decreasing parameters seem does less with the results."
   ]
  },
  {
   "cell_type": "code",
   "execution_count": 71,
   "metadata": {
    "id": "1mTel5InoYy1"
   },
   "outputs": [],
   "source": [
    "from sklearn.feature_extraction.text import TfidfVectorizer\n",
    "from sklearn.metrics.pairwise import linear_kernel\n",
    "from sklearn.metrics.pairwise import cosine_similarity\n",
    "from ast import literal_eval"
   ]
  },
  {
   "cell_type": "code",
   "execution_count": 72,
   "metadata": {
    "id": "gBSAXXT2IXer"
   },
   "outputs": [],
   "source": [
    "allmov['cast'] = allmov['cast'].apply(literal_eval)\n",
    "allmov['crew'] = allmov['crew'].apply(literal_eval)\n",
    "allmov['genres'] = allmov['genres'].apply(literal_eval)\n",
    "allmov['keywords'] = allmov['keywords'].apply(literal_eval)"
   ]
  },
  {
   "cell_type": "code",
   "execution_count": 73,
   "metadata": {
    "id": "ViZ2WrntZDs-"
   },
   "outputs": [],
   "source": [
    "# return a list\n",
    "def extract(feature):\n",
    "    token = []\n",
    "    for i in feature:\n",
    "        f = i['name']\n",
    "        token.append(f.lower())\n",
    "    return token\n",
    "\n",
    "# combine the words together\n",
    "def tostr(l):\n",
    "    t2 = ''\n",
    "    if len(l) >= 2:\n",
    "        t2 = ' ' + (l[0]).replace(' ', '') + ' ' + (l[1]).replace(' ', '')\n",
    "    else:\n",
    "        for i in l:\n",
    "            t2 += ' ' + i.replace(' ', '')\n",
    "    return t2\n",
    "\n",
    "# remain the space (do not combine the words)\n",
    "def tostr2(l):\n",
    "    t2 = ''\n",
    "    if len(l) >= 2:\n",
    "        t2 = l[0] + ' ' + l[1]\n",
    "    else:\n",
    "        for i in l:\n",
    "            t2 += i\n",
    "    return t2\n",
    "\n",
    "# director infomation\n",
    "def director(crew):\n",
    "    for i in crew:\n",
    "        if i['job'] == 'Director':\n",
    "            d = i['name']\n",
    "            return d.replace(' ','')\n",
    "        else:\n",
    "            return ''\n",
    "        \n",
    "def clean(data):\n",
    "    if isinstance(data, list):\n",
    "        return [str.lower(i) for i in data]\n",
    "    else:\n",
    "        if isinstance(data, str):\n",
    "            return str.lower(data)\n",
    "        else:\n",
    "            return ''"
   ]
  },
  {
   "cell_type": "code",
   "execution_count": 76,
   "metadata": {
    "id": "YO3AuMyjZD4s"
   },
   "outputs": [],
   "source": [
    "# clean the data and extract features\n",
    "allmov['director'] = (allmov['crew'].apply(director)).apply(clean)\n",
    "allmov['actors'] = ((allmov['cast'].apply(extract)).apply(tostr)).apply(clean)\n",
    "allmov['genres2'] = ((allmov['genres'].apply(extract)).apply(tostr2)).apply(clean)\n",
    "allmov['key'] = ((allmov['keywords'].apply(extract)).apply(tostr2)).apply(clean)\n",
    "allmov['title2'] = (allmov['title']).apply(clean)"
   ]
  },
  {
   "cell_type": "code",
   "execution_count": 77,
   "metadata": {},
   "outputs": [],
   "source": [
    "# combine all the interedting features together, this will make it easier to calculate TF-IDF vectors\n",
    "def feature_join(data):\n",
    "    return data['director'] + data['actors'] + data['genres2'] + data['key'] + ' ' + data['title2']\n",
    "allmov['feature'] = allmov.apply(feature_join, axis = 1)"
   ]
  },
  {
   "cell_type": "code",
   "execution_count": 78,
   "metadata": {},
   "outputs": [
    {
     "data": {
      "text/plain": [
       "0        johnlasseter tomhanks timallenanimation comedy...\n",
       "1         robinwilliams jonathanhydeadventure fantasybo...\n",
       "2        howarddeutch waltermatthau jacklemmonromance c...\n",
       "3        forestwhitaker whitneyhouston angelabassettcom...\n",
       "4         stevemartin dianekeatoncomedybaby midlife cri...\n",
       "                               ...                        \n",
       "45457    georgesméliès georgesmélièsdrama action robin ...\n",
       "45459    saulblinkoff jimmybennett petercullendrama cen...\n",
       "45460     georgesméliès georgesmélièsaction drama betrayal\n",
       "45461    georgesméliès jeanned'alcy georgesméliès satan...\n",
       "45462                                             queerama\n",
       "Name: feature, Length: 45376, dtype: object"
      ]
     },
     "execution_count": 78,
     "metadata": {},
     "output_type": "execute_result"
    }
   ],
   "source": [
    "allmov['feature']"
   ]
  },
  {
   "cell_type": "code",
   "execution_count": 79,
   "metadata": {},
   "outputs": [],
   "source": [
    "# calculate TF-IDF vectors\n",
    "tfidf = TfidfVectorizer(stop_words = 'english')\n",
    "\n",
    "tfidf_feature = tfidf.fit_transform(allmov['feature'])"
   ]
  },
  {
   "cell_type": "code",
   "execution_count": 80,
   "metadata": {},
   "outputs": [],
   "source": [
    "# calculate the cosine similarity\n",
    "cosine = cosine_similarity(tfidf_feature, tfidf_feature)"
   ]
  },
  {
   "cell_type": "code",
   "execution_count": 81,
   "metadata": {},
   "outputs": [],
   "source": [
    "index = pd.Series(allmov.index, index = allmov['title']).drop_duplicates()\n",
    "\n",
    "def recommend(title, cosine):\n",
    "    idx = index[title]\n",
    "    pair_sim = list(enumerate(cosine[idx]))\n",
    "    sim = (sorted(pair_sim, key = lambda x: x[1], reverse = True))[1:10]\n",
    "    movidx = [i[0] for i in sim]\n",
    "    return allmov['title'].iloc[movidx]"
   ]
  },
  {
   "cell_type": "code",
   "execution_count": 82,
   "metadata": {},
   "outputs": [
    {
     "data": {
      "text/plain": [
       "8871            Police Story\n",
       "1376            First Strike\n",
       "10354         Police Story 2\n",
       "5109        The Young Master\n",
       "10357       New Police Story\n",
       "110      Rumble in the Bronx\n",
       "10721              Project A\n",
       "12912           Babylon A.D.\n",
       "11179           Executioners\n",
       "Name: title, dtype: object"
      ]
     },
     "execution_count": 82,
     "metadata": {},
     "output_type": "execute_result"
    }
   ],
   "source": [
    "recommend('The Godfather', cosine)"
   ]
  },
  {
   "cell_type": "code",
   "execution_count": 83,
   "metadata": {},
   "outputs": [
    {
     "data": {
      "text/plain": [
       "23516    Blood of Redemption\n",
       "12254        The Bucket List\n",
       "33908    Behind Locked Doors\n",
       "4864            The Majestic\n",
       "5148             High Crimes\n",
       "17280          Cinema Verite\n",
       "3028        Cradle Will Rock\n",
       "13561         The Lucky Ones\n",
       "2176              The Player\n",
       "Name: title, dtype: object"
      ]
     },
     "execution_count": 83,
     "metadata": {},
     "output_type": "execute_result"
    }
   ],
   "source": [
    "recommend('The Shawshank Redemption', cosine)"
   ]
  },
  {
   "cell_type": "markdown",
   "metadata": {
    "id": "3Da5AMTinlMR"
   },
   "source": [
    "### Collaborative Filtering"
   ]
  },
  {
   "cell_type": "markdown",
   "metadata": {
    "id": "Iyr4DOtMn9hK"
   },
   "source": [
    "Model-based Collaborative Filtering is based on matrix factorization (MF) which has received greater exposure, mainly as an unsupervised learning method for latent variable decomposition and dimensionality reduction. Matrix factorization is widely used for recommender systems where it can deal better with scalability and sparsity than Memory-based Collaborative Filtering, which is based on a similarity matrix calculated by cosine similarity. https://arxiv.org/pdf/1503.07475.pdf"
   ]
  },
  {
   "cell_type": "code",
   "execution_count": 86,
   "metadata": {
    "id": "J1dPUdTsr0rx"
   },
   "outputs": [],
   "source": [
    "from math import sqrt\n",
    "\n",
    "from sklearn.model_selection import train_test_split\n",
    "from sklearn.metrics import mean_squared_error\n",
    "from scipy.sparse.linalg import svds\n",
    "\n",
    "from keras.models import Model\n",
    "from keras.layers import Input, Embedding, Flatten, Dense, Concatenate\n",
    "from keras.layers import Dropout, BatchNormalization, Activation\n",
    "from keras.regularizers import l2\n",
    "from keras.optimizers import SGD, Adam\n",
    "from keras.metrics import RootMeanSquaredError"
   ]
  },
  {
   "cell_type": "code",
   "execution_count": null,
   "metadata": {
    "id": "pcvxI1gXAaKH"
   },
   "outputs": [],
   "source": [
    "movies.rename(columns = {'id':'movieId'}, inplace = True)\n",
    "ratings_sub = pd.merge(ratings_small, movies[['movieId', 'title', 'original_language']], on = 'movieId')"
   ]
  },
  {
   "cell_type": "markdown",
   "metadata": {
    "id": "fmLkMc1sgsAb"
   },
   "source": [
    "We can select certain feature for interesting movies by roughly select the movie features. For example, if one like English movies, the following funcctions can be applied to the dataset."
   ]
  },
  {
   "cell_type": "code",
   "execution_count": null,
   "metadata": {
    "id": "ZL6jYxLphSv-"
   },
   "outputs": [],
   "source": [
    "def choose_language(language):\n",
    "    lan_ratings_sub = ratings_sub[ratings_sub['original_language'] == language]\n",
    "    return lan_ratings_sub"
   ]
  },
  {
   "cell_type": "markdown",
   "metadata": {
    "id": "TZzWKigkUeTn"
   },
   "source": [
    "Now, we need first do some preprocessing wordk. Notice that the user IDs are ordered sequentially with no missing numbers, but the movie IDs are not. Hence, we need to change them to a sequential set."
   ]
  },
  {
   "cell_type": "code",
   "execution_count": null,
   "metadata": {
    "id": "ly_0D-c-gGBc"
   },
   "outputs": [],
   "source": [
    "# create a mapping for movie ids\n",
    "unique_movie_ids = set(ratings_sub.movieId.values)\n",
    "movieidx = {}\n",
    "count = 0\n",
    "for m_id in unique_movie_ids:\n",
    "    movieidx[m_id] = count\n",
    "    count += 1"
   ]
  },
  {
   "cell_type": "code",
   "execution_count": null,
   "metadata": {
    "id": "Rk10sFjugGSF"
   },
   "outputs": [],
   "source": [
    "# add them to the data frame\n",
    "ratings_sub['movie_idx'] = ratings_sub.apply(lambda row: movieidx[row.movieId], axis=1)"
   ]
  },
  {
   "cell_type": "code",
   "execution_count": null,
   "metadata": {
    "colab": {
     "base_uri": "https://localhost:8080/",
     "height": 204
    },
    "id": "dMLrD5DOipN9",
    "outputId": "c664e940-6b67-43d2-a478-16b4d6c2510a"
   },
   "outputs": [
    {
     "data": {
      "text/html": [
       "<div>\n",
       "<style scoped>\n",
       "    .dataframe tbody tr th:only-of-type {\n",
       "        vertical-align: middle;\n",
       "    }\n",
       "\n",
       "    .dataframe tbody tr th {\n",
       "        vertical-align: top;\n",
       "    }\n",
       "\n",
       "    .dataframe thead th {\n",
       "        text-align: right;\n",
       "    }\n",
       "</style>\n",
       "<table border=\"1\" class=\"dataframe\">\n",
       "  <thead>\n",
       "    <tr style=\"text-align: right;\">\n",
       "      <th></th>\n",
       "      <th>userId</th>\n",
       "      <th>movieId</th>\n",
       "      <th>rating</th>\n",
       "      <th>timestamp</th>\n",
       "      <th>movie_idx</th>\n",
       "      <th>title</th>\n",
       "      <th>original_language</th>\n",
       "    </tr>\n",
       "  </thead>\n",
       "  <tbody>\n",
       "    <tr>\n",
       "      <th>0</th>\n",
       "      <td>1</td>\n",
       "      <td>1371</td>\n",
       "      <td>2.5</td>\n",
       "      <td>1260759135</td>\n",
       "      <td>914</td>\n",
       "      <td>Rocky III</td>\n",
       "      <td>en</td>\n",
       "    </tr>\n",
       "    <tr>\n",
       "      <th>1</th>\n",
       "      <td>4</td>\n",
       "      <td>1371</td>\n",
       "      <td>4.0</td>\n",
       "      <td>949810302</td>\n",
       "      <td>914</td>\n",
       "      <td>Rocky III</td>\n",
       "      <td>en</td>\n",
       "    </tr>\n",
       "    <tr>\n",
       "      <th>2</th>\n",
       "      <td>7</td>\n",
       "      <td>1371</td>\n",
       "      <td>3.0</td>\n",
       "      <td>851869160</td>\n",
       "      <td>914</td>\n",
       "      <td>Rocky III</td>\n",
       "      <td>en</td>\n",
       "    </tr>\n",
       "    <tr>\n",
       "      <th>3</th>\n",
       "      <td>19</td>\n",
       "      <td>1371</td>\n",
       "      <td>4.0</td>\n",
       "      <td>855193404</td>\n",
       "      <td>914</td>\n",
       "      <td>Rocky III</td>\n",
       "      <td>en</td>\n",
       "    </tr>\n",
       "    <tr>\n",
       "      <th>4</th>\n",
       "      <td>21</td>\n",
       "      <td>1371</td>\n",
       "      <td>3.0</td>\n",
       "      <td>853852263</td>\n",
       "      <td>914</td>\n",
       "      <td>Rocky III</td>\n",
       "      <td>en</td>\n",
       "    </tr>\n",
       "  </tbody>\n",
       "</table>\n",
       "</div>"
      ],
      "text/plain": [
       "   userId  movieId  rating   timestamp  movie_idx      title original_language\n",
       "0       1     1371     2.5  1260759135        914  Rocky III                en\n",
       "1       4     1371     4.0   949810302        914  Rocky III                en\n",
       "2       7     1371     3.0   851869160        914  Rocky III                en\n",
       "3      19     1371     4.0   855193404        914  Rocky III                en\n",
       "4      21     1371     3.0   853852263        914  Rocky III                en"
      ]
     },
     "execution_count": 162,
     "metadata": {
      "tags": []
     },
     "output_type": "execute_result"
    }
   ],
   "source": [
    "ratings_sub.head()"
   ]
  },
  {
   "cell_type": "code",
   "execution_count": null,
   "metadata": {
    "id": "r8FwtaQIjAoB"
   },
   "outputs": [],
   "source": [
    "df_ratings = ratings_sub.drop(columns=[\"timestamp\", \"original_language\", \"movieId\", \"title\"])"
   ]
  },
  {
   "cell_type": "markdown",
   "metadata": {
    "id": "TyN20nsjofWz"
   },
   "source": [
    "#### SVD"
   ]
  },
  {
   "cell_type": "code",
   "execution_count": null,
   "metadata": {
    "id": "iJNREhEaRGCC"
   },
   "outputs": [],
   "source": [
    "train_data, test_data = train_test_split(df_ratings, test_size = 0.2)"
   ]
  },
  {
   "cell_type": "code",
   "execution_count": null,
   "metadata": {
    "colab": {
     "base_uri": "https://localhost:8080/"
    },
    "id": "O9b0pXADRGNo",
    "outputId": "bd555902-6269-4b89-be2e-34cb4bc40372"
   },
   "outputs": [
    {
     "name": "stdout",
     "output_type": "stream",
     "text": [
      "671 2830\n"
     ]
    }
   ],
   "source": [
    "n_users = df_ratings.userId.nunique()\n",
    "n_items = df_ratings.movie_idx.nunique()\n",
    "\n",
    "print(n_users, n_items)"
   ]
  },
  {
   "cell_type": "code",
   "execution_count": null,
   "metadata": {
    "id": "yLnReeZFRGJz"
   },
   "outputs": [],
   "source": [
    "train_data_matrix = np.zeros((n_users, n_items))\n",
    "for line in train_data.itertuples():\n",
    "    train_data_matrix[line[1]-1, line[3]-1] = line[2]  \n",
    "\n",
    "test_data_matrix = np.zeros((n_users, n_items))\n",
    "for line in test_data.itertuples():\n",
    "    test_data_matrix[line[1]-1, line[3]-1] = line[2]"
   ]
  },
  {
   "cell_type": "code",
   "execution_count": null,
   "metadata": {
    "id": "vmoOrKHnRfqY"
   },
   "outputs": [],
   "source": [
    "def rmse(pred, actual):\n",
    "    pred = pred[actual.nonzero()].flatten() \n",
    "    actual = actual[actual.nonzero()].flatten()\n",
    "    return sqrt(mean_squared_error(pred, actual))"
   ]
  },
  {
   "cell_type": "markdown",
   "metadata": {
    "id": "HISNxEDgknH4"
   },
   "source": [
    "Training the SVD model."
   ]
  },
  {
   "cell_type": "code",
   "execution_count": null,
   "metadata": {
    "colab": {
     "base_uri": "https://localhost:8080/"
    },
    "id": "fJnA_N0ORfwx",
    "outputId": "4e9040c9-2148-49ef-bdab-2fc7c922595d"
   },
   "outputs": [
    {
     "name": "stdout",
     "output_type": "stream",
     "text": [
      "User-based CF RMSE: 2.9474166124884773\n"
     ]
    }
   ],
   "source": [
    "u, s, vt = svds(train_data_matrix, k = 8)\n",
    "s_diag_matrix = np.diag(s)\n",
    "X_pred = np.dot(np.dot(u, s_diag_matrix), vt)\n",
    "print('User-based CF RMSE: ' + str(rmse(X_pred, test_data_matrix)))"
   ]
  },
  {
   "cell_type": "markdown",
   "metadata": {
    "id": "gPs1YFCJoSRE"
   },
   "source": [
    "#### Neural Network"
   ]
  },
  {
   "cell_type": "markdown",
   "metadata": {
    "id": "JuZ7cy_Mo8Ln"
   },
   "source": [
    "MF extracts the features automatically using only ratings and we can feed them into a model like random forest and neural network."
   ]
  },
  {
   "cell_type": "code",
   "execution_count": null,
   "metadata": {
    "colab": {
     "base_uri": "https://localhost:8080/",
     "height": 204
    },
    "id": "Co9R2FG4yfA_",
    "outputId": "4818674b-a673-4680-d835-830d10b1e67f"
   },
   "outputs": [
    {
     "data": {
      "text/html": [
       "<div>\n",
       "<style scoped>\n",
       "    .dataframe tbody tr th:only-of-type {\n",
       "        vertical-align: middle;\n",
       "    }\n",
       "\n",
       "    .dataframe tbody tr th {\n",
       "        vertical-align: top;\n",
       "    }\n",
       "\n",
       "    .dataframe thead th {\n",
       "        text-align: right;\n",
       "    }\n",
       "</style>\n",
       "<table border=\"1\" class=\"dataframe\">\n",
       "  <thead>\n",
       "    <tr style=\"text-align: right;\">\n",
       "      <th></th>\n",
       "      <th>userId</th>\n",
       "      <th>rating</th>\n",
       "      <th>movie_idx</th>\n",
       "    </tr>\n",
       "  </thead>\n",
       "  <tbody>\n",
       "    <tr>\n",
       "      <th>2924</th>\n",
       "      <td>421</td>\n",
       "      <td>5.0</td>\n",
       "      <td>290</td>\n",
       "    </tr>\n",
       "    <tr>\n",
       "      <th>10307</th>\n",
       "      <td>363</td>\n",
       "      <td>5.0</td>\n",
       "      <td>737</td>\n",
       "    </tr>\n",
       "    <tr>\n",
       "      <th>27427</th>\n",
       "      <td>119</td>\n",
       "      <td>4.0</td>\n",
       "      <td>1086</td>\n",
       "    </tr>\n",
       "    <tr>\n",
       "      <th>5395</th>\n",
       "      <td>163</td>\n",
       "      <td>2.5</td>\n",
       "      <td>457</td>\n",
       "    </tr>\n",
       "    <tr>\n",
       "      <th>42824</th>\n",
       "      <td>387</td>\n",
       "      <td>4.0</td>\n",
       "      <td>1457</td>\n",
       "    </tr>\n",
       "  </tbody>\n",
       "</table>\n",
       "</div>"
      ],
      "text/plain": [
       "       userId  rating  movie_idx\n",
       "2924      421     5.0        290\n",
       "10307     363     5.0        737\n",
       "27427     119     4.0       1086\n",
       "5395      163     2.5        457\n",
       "42824     387     4.0       1457"
      ]
     },
     "execution_count": 170,
     "metadata": {
      "tags": []
     },
     "output_type": "execute_result"
    }
   ],
   "source": [
    "train_data.head()"
   ]
  },
  {
   "cell_type": "code",
   "execution_count": null,
   "metadata": {
    "id": "Y4Qto04poRi6"
   },
   "outputs": [],
   "source": [
    "n_users = df_ratings.userId.max() + 1\n",
    "n_movies = df_ratings.movie_idx.max() + 1\n",
    "\n",
    "train_data, test_data = train_test_split(df_ratings, test_size = 0.2)\n",
    "\n",
    "# initialize variables\n",
    "k = 8\n",
    "mu = train_data.rating.mean()"
   ]
  },
  {
   "cell_type": "code",
   "execution_count": null,
   "metadata": {
    "id": "hPBGEqX3j-Vt"
   },
   "outputs": [],
   "source": [
    "user_input = Input(shape=(1,)); movie_input = Input(shape=(1,))\n",
    "u_embed = Flatten()(Embedding(n_users, k)(user_input))\n",
    "m_embed = Flatten()(Embedding(n_movies, k)(movie_input))\n",
    "x = Concatenate()([u_embed, m_embed])"
   ]
  },
  {
   "cell_type": "code",
   "execution_count": null,
   "metadata": {
    "colab": {
     "base_uri": "https://localhost:8080/"
    },
    "id": "DcAaFM11j-io",
    "outputId": "eb0f4ec9-51a6-490b-c3a9-b246b151258c"
   },
   "outputs": [
    {
     "name": "stdout",
     "output_type": "stream",
     "text": [
      "Epoch 1/20\n",
      "200/200 [==============================] - 1s 4ms/step - loss: 1.0154 - rmse: 1.0077 - val_loss: 0.8512 - val_rmse: 0.9226\n",
      "Epoch 2/20\n",
      "200/200 [==============================] - 1s 4ms/step - loss: 0.8464 - rmse: 0.9200 - val_loss: 0.8051 - val_rmse: 0.8973\n",
      "Epoch 3/20\n",
      "200/200 [==============================] - 1s 4ms/step - loss: 0.8085 - rmse: 0.8992 - val_loss: 0.8017 - val_rmse: 0.8954\n",
      "Epoch 4/20\n",
      "200/200 [==============================] - 1s 4ms/step - loss: 0.7866 - rmse: 0.8869 - val_loss: 0.7950 - val_rmse: 0.8916\n",
      "Epoch 5/20\n",
      "200/200 [==============================] - 1s 3ms/step - loss: 0.7726 - rmse: 0.8790 - val_loss: 0.7900 - val_rmse: 0.8888\n",
      "Epoch 6/20\n",
      "200/200 [==============================] - 1s 3ms/step - loss: 0.7645 - rmse: 0.8744 - val_loss: 0.7870 - val_rmse: 0.8872\n",
      "Epoch 7/20\n",
      "200/200 [==============================] - 1s 4ms/step - loss: 0.7536 - rmse: 0.8681 - val_loss: 0.7824 - val_rmse: 0.8845\n",
      "Epoch 8/20\n",
      "200/200 [==============================] - 1s 3ms/step - loss: 0.7430 - rmse: 0.8620 - val_loss: 0.7872 - val_rmse: 0.8872\n",
      "Epoch 9/20\n",
      "200/200 [==============================] - 1s 3ms/step - loss: 0.7337 - rmse: 0.8566 - val_loss: 0.7872 - val_rmse: 0.8872\n",
      "Epoch 10/20\n",
      "200/200 [==============================] - 1s 3ms/step - loss: 0.7273 - rmse: 0.8528 - val_loss: 0.7867 - val_rmse: 0.8870\n",
      "Epoch 11/20\n",
      "200/200 [==============================] - 1s 4ms/step - loss: 0.7293 - rmse: 0.8540 - val_loss: 0.7938 - val_rmse: 0.8909\n",
      "Epoch 12/20\n",
      "200/200 [==============================] - 1s 3ms/step - loss: 0.7201 - rmse: 0.8486 - val_loss: 0.7916 - val_rmse: 0.8897\n",
      "Epoch 13/20\n",
      "200/200 [==============================] - 1s 3ms/step - loss: 0.7179 - rmse: 0.8473 - val_loss: 0.7942 - val_rmse: 0.8912\n",
      "Epoch 14/20\n",
      "200/200 [==============================] - 1s 4ms/step - loss: 0.7099 - rmse: 0.8425 - val_loss: 0.7980 - val_rmse: 0.8933\n",
      "Epoch 15/20\n",
      "200/200 [==============================] - 1s 4ms/step - loss: 0.7022 - rmse: 0.8379 - val_loss: 0.8028 - val_rmse: 0.8960\n",
      "Epoch 16/20\n",
      "200/200 [==============================] - 1s 3ms/step - loss: 0.6995 - rmse: 0.8363 - val_loss: 0.8000 - val_rmse: 0.8944\n",
      "Epoch 17/20\n",
      "200/200 [==============================] - 1s 4ms/step - loss: 0.6914 - rmse: 0.8315 - val_loss: 0.8012 - val_rmse: 0.8951\n",
      "Epoch 18/20\n",
      "200/200 [==============================] - 1s 3ms/step - loss: 0.6861 - rmse: 0.8283 - val_loss: 0.8025 - val_rmse: 0.8958\n",
      "Epoch 19/20\n",
      "200/200 [==============================] - 1s 4ms/step - loss: 0.6783 - rmse: 0.8236 - val_loss: 0.8031 - val_rmse: 0.8962\n",
      "Epoch 20/20\n",
      "200/200 [==============================] - 1s 3ms/step - loss: 0.6721 - rmse: 0.8198 - val_loss: 0.8047 - val_rmse: 0.8971\n"
     ]
    }
   ],
   "source": [
    "# the neural network\n",
    "x = Dense(200, activation = 'relu')(x)\n",
    "x = Dropout(0.5)(x)\n",
    "x = Dense(10, activation = 'relu')(x)\n",
    "x = Dropout(0.5)(x)\n",
    "x = Dense(1)(x)\n",
    "\n",
    "model = Model(inputs = [user_input, movie_input], outputs = x)\n",
    "model.compile(loss = 'mse', optimizer = Adam(lr = 0.001), metrics = [RootMeanSquaredError(name = 'rmse')],)\n",
    "\n",
    "epochs = 20\n",
    "result = model.fit(\n",
    "  x = [train_data.userId.values, train_data.movie_idx.values],\n",
    "  y = train_data.rating.values - mu,\n",
    "  epochs = epochs,\n",
    "  batch_size = 180,\n",
    "  validation_data = ([test_data.userId.values, test_data.movie_idx.values], test_data.rating.values - mu)\n",
    ")"
   ]
  },
  {
   "cell_type": "code",
   "execution_count": null,
   "metadata": {
    "colab": {
     "base_uri": "https://localhost:8080/",
     "height": 294
    },
    "id": "4cTlXuyck-hl",
    "outputId": "07337e3a-e352-456a-c138-8db1fc283c9f"
   },
   "outputs": [
    {
     "data": {
      "image/png": "[encoded data removed]",
      "text/plain": [
       "<Figure size 432x288 with 1 Axes>"
      ]
     },
     "metadata": {
      "needs_background": "light",
      "tags": []
     },
     "output_type": "display_data"
    }
   ],
   "source": [
    "fig, axes = plt.subplots(nrows = 1, ncols = 1, figsize = (6, 4))\n",
    "# axes[0].plot(result.history['loss'], label = \"training loss\") \n",
    "# axes[0].plot(result.history['val_loss'], label = \"testing loss\")\n",
    "# axes[0].set_title('ANN for Ratings')\n",
    "# axes[0].set_xlabel('epochs')\n",
    "# axes[0].set_ylabel('RMSE')\n",
    "# axes[0].legend()\n",
    "\n",
    "axes.plot(result.history['rmse'], label = \"training RMSE\") \n",
    "axes.plot(result.history['val_rmse'], label = \"testing RMSE\")\n",
    "axes.set_title('ANN for Ratings')\n",
    "axes.set_xlabel('epochs')\n",
    "axes.set_ylabel('RMSE')\n",
    "axes.legend()\n",
    "ticks = [int(i) for i in np.linspace(0, 19, 20)]\n",
    "labels = [i + 1 for i in ticks]\n",
    "axes.set_xticks(ticks)\n",
    "axes.set_xticklabels(labels, fontsize = 8);"
   ]
  }
 ],
 "metadata": {
  "accelerator": "GPU",
  "colab": {
   "collapsed_sections": [],
   "name": "Part 3 recommendation system",
   "provenance": []
  },
  "kernelspec": {
   "display_name": "Python 3",
   "language": "python",
   "name": "python3"
  },
  "language_info": {
   "codemirror_mode": {
    "name": "ipython",
    "version": 3
   },
   "file_extension": ".py",
   "mimetype": "text/x-python",
   "name": "python",
   "nbconvert_exporter": "python",
   "pygments_lexer": "ipython3",
   "version": "3.8.3"
  }
 },
 "nbformat": 4,
 "nbformat_minor": 1
}
